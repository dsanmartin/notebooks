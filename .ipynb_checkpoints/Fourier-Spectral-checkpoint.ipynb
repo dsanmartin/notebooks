{
 "cells": [
  {
   "cell_type": "markdown",
   "metadata": {},
   "source": [
    "# Fourier spectral methods in Matlab (and Python)"
   ]
  },
  {
   "cell_type": "markdown",
   "metadata": {},
   "source": [
    "These examples are based on material in Nick Trefethen's book Spectral Methods in Matlab.  The m-files for this book are available at http://people.maths.ox.ac.uk/trefethen/spectral.html"
   ]
  },
  {
   "cell_type": "code",
   "execution_count": null,
   "metadata": {
    "collapsed": false
   },
   "outputs": [],
   "source": [
    "import pymatbridge\n",
    "ip = get_ipython()\n",
    "pymatbridge.load_ipython_extension(ip)"
   ]
  },
  {
   "cell_type": "markdown",
   "metadata": {},
   "source": [
    "If you want to run this notebook you will have to set this path properly..."
   ]
  },
  {
   "cell_type": "code",
   "execution_count": null,
   "metadata": {
    "collapsed": false
   },
   "outputs": [],
   "source": [
    "%%matlab\n",
    "path(path,'/Users/rjl/SMM/all_M_files')"
   ]
  },
  {
   "cell_type": "markdown",
   "metadata": {},
   "source": [
    "## Program 5"
   ]
  },
  {
   "cell_type": "markdown",
   "metadata": {},
   "source": [
    "This example is directly from p5.m found at  http://people.maths.ox.ac.uk/trefethen/spectral.html"
   ]
  },
  {
   "cell_type": "code",
   "execution_count": null,
   "metadata": {
    "collapsed": false
   },
   "outputs": [],
   "source": [
    "%%matlab\n",
    "\n",
    "% p5.m - repetition of p4.m via FFT\n",
    "%        For complex v, delete \"real\" commands.\n",
    "\n",
    "% Differentiation of a hat function:\n",
    "  N = 24; h = 2*pi/N; x = h*(1:N)';\n",
    "  v = max(0,1-abs(x-pi)/2); v_hat = fft(v);\n",
    "  w_hat = 1i*[0:N/2-1 0 -N/2+1:-1]' .* v_hat;\n",
    "  w = real(ifft(w_hat)); clf\n",
    "  subplot(3,2,1), plot(x,v,'.-','markersize',13)\n",
    "  axis([0 2*pi -.5 1.5]), grid on, title('function')\n",
    "  subplot(3,2,2), plot(x,w,'.-','markersize',13)\n",
    "  axis([0 2*pi -1 1]), grid on, title('spectral derivative')\n",
    "\n",
    "% Differentiation of exp(sin(x)):\n",
    "  v = exp(sin(x)); vprime = cos(x).*v;\n",
    "  v_hat = fft(v);\n",
    "  w_hat = 1i*[0:N/2-1 0 -N/2+1:-1]' .* v_hat;\n",
    "  w = real(ifft(w_hat));\n",
    "  subplot(3,2,3), plot(x,v,'.-','markersize',13)\n",
    "  axis([0 2*pi 0 3]), grid on\n",
    "  subplot(3,2,4), plot(x,w,'.-','markersize',13)\n",
    "  axis([0 2*pi -2 2]), grid on\n",
    "  error = norm(w-vprime,inf);\n",
    "  text(2.2,1.4,['max error = ' num2str(error)])\n"
   ]
  },
  {
   "cell_type": "markdown",
   "metadata": {},
   "source": [
    "## Illustration of spectral differentiation"
   ]
  },
  {
   "cell_type": "markdown",
   "metadata": {},
   "source": [
    "To make this a bit clearer, first illustrate how to compute the second derivative of periodic function.\n",
    "Start with $$u = \\exp(\\cos(x)),$$ and check that the numerical approximation agrees well with $$u''(x) = (\\sin^2(x) - \\cos(x))  \\exp(\\cos(x)).$$\n",
    "\n",
    "The only tricky thing here is the order of the indices in the wave number vector."
   ]
  },
  {
   "cell_type": "code",
   "execution_count": null,
   "metadata": {
    "collapsed": false
   },
   "outputs": [],
   "source": [
    "%%matlab\n",
    "N = 16;\n",
    "x = linspace(2*pi/N,2*pi,N);\n",
    "ik = 1i*[0:N/2 -N/2+1:-1];   % i * wave number vector (matlab ordering)\n",
    "ik2 = ik.*ik;                    % multiplication factor for second derivative\n",
    "\n",
    "u = exp(cos(x));\n",
    "u_hat = fft(u);\n",
    "v_hat = ik2 .* u_hat;\n",
    "v = real(ifft(v_hat));     % imaginary part should be at machine precision level\n",
    "\n",
    "error = v - (sin(x).^2 - cos(x)) .* exp(cos(x));\n",
    "norm(error,inf)"
   ]
  },
  {
   "cell_type": "markdown",
   "metadata": {},
   "source": [
    "## Illustration of solving a periodic boundary value problem"
   ]
  },
  {
   "cell_type": "markdown",
   "metadata": {},
   "source": [
    "Now let's solve the boundary value problem\n",
    "$$u''(x) = f(x)$$\n",
    "on $0 \\leq x \\leq 2\\pi$ with periodic boundary conditions and the constraint $\\int_0^{2\\pi} u(x) dx = 0$.\n",
    "\n",
    "Use $f(x) = (\\sin^2(x) - \\cos(x))  \\exp(\\cos(x))$ so the solution should be $u(x) = \\exp(\\cos(x)) + C$, where the constant is chosen so the integral constraint is satisfied.\n",
    "\n",
    "We now have to divide by ik2, with the complication that 1/0 should be replaced by 0.  This results in the $\\hat u_0 = 0$, which gives the integral constraint."
   ]
  },
  {
   "cell_type": "code",
   "execution_count": null,
   "metadata": {
    "collapsed": false
   },
   "outputs": [],
   "source": [
    "%%matlab\n",
    "\n",
    "N = 16;\n",
    "x = linspace(2*pi/N,2*pi,N);\n",
    "f = (sin(x).^2 - cos(x)) .* exp(cos(x));\n",
    "f_hat = fft(f);\n",
    "\n",
    "ik = 1i*[0:N/2 -N/2+1:-1];   % i * wave number vector (matlab ordering)\n",
    "ik2 = ik.*ik;         % multiplication factor for second derivative\n",
    "ii = find(ik ~= 0);   % indices where ik is nonzero\n",
    "ik2inverse = ik2;     % initialize zeros in same locations as in ik2\n",
    "ik2inverse(ii) = 1./ik2(ii);   % multiplier factor to solve u'' = f\n",
    "\n",
    "u_hat = ik2inverse .* f_hat;\n",
    "u = real(ifft(u_hat));   % imaginary parts should be roundoff level"
   ]
  },
  {
   "cell_type": "markdown",
   "metadata": {},
   "source": [
    "Plotting the solution shows that it is a shifted version of $\\exp(\\cos(x))$:"
   ]
  },
  {
   "cell_type": "code",
   "execution_count": null,
   "metadata": {
    "collapsed": false
   },
   "outputs": [],
   "source": [
    "%%matlab\n",
    "plot(x,u,'b-o')\n",
    "hold on\n",
    "v = exp(cos(x));\n",
    "plot(x,v,'r-o')"
   ]
  },
  {
   "cell_type": "markdown",
   "metadata": {},
   "source": [
    "If we shift so that one value of $u$ agrees with $v$, then we hope everything will line up:"
   ]
  },
  {
   "cell_type": "code",
   "execution_count": null,
   "metadata": {
    "collapsed": false
   },
   "outputs": [],
   "source": [
    "%%matlab\n",
    "u2 = u + v(1)-u(1);\n",
    "norm(u2 - v, inf)"
   ]
  },
  {
   "cell_type": "markdown",
   "metadata": {},
   "source": [
    "## "
   ]
  },
  {
   "cell_type": "markdown",
   "metadata": {},
   "source": [
    "## Python versions:"
   ]
  },
  {
   "cell_type": "markdown",
   "metadata": {},
   "source": [
    "We repeat these examples in Python. The codes are essentially identical, with some changes from Matlab to Python notation.\n",
    "\n",
    "First illustrate how to compute the second derivative of periodic function.\n",
    "Start with $$u = \\exp(\\cos(x)),$$ and check that the numerical approximation agrees well with $$u''(x) = (\\sin^2(x) - \\cos(x))  \\exp(\\cos(x))$$"
   ]
  },
  {
   "cell_type": "code",
   "execution_count": null,
   "metadata": {
    "collapsed": false
   },
   "outputs": [],
   "source": [
    "from scipy import fft,ifft\n",
    "N = 16;\n",
    "x = linspace(2*pi/N,2*pi,N)\n",
    "\n",
    "ik = 1j*hstack((range(0,N/2+1), range(-N/2+1,0)));   # i * wave number vector (matlab ordering)\n",
    "ik2 = ik*ik;          # multiplication factor for second derivative\n",
    "\n",
    "u = exp(cos(x))\n",
    "u_hat = fft(u)\n",
    "v_hat = ik2 * u_hat\n",
    "v = real(ifft(v_hat))     # imaginary part should be at machine precision level\n",
    "\n",
    "error = v - (sin(x)**2 - cos(x)) * exp(cos(x))\n",
    "norm(error,inf)\n",
    "\n"
   ]
  },
  {
   "cell_type": "markdown",
   "metadata": {},
   "source": [
    "Now let's solve the boundary value problem\n",
    "$$u''(x) = f(x)$$\n",
    "on $0 \\leq x \\leq 2\\pi$ with periodic boundary conditions and the constraint $\\int_0^{2\\pi} u(x) dx = 0$.\n",
    "\n",
    "Use $f(x) = (\\sin^2(x) - \\cos(x))  \\exp(\\cos(x))$ so the solution should be $u(x) = \\exp(\\cos(x)) + C$, where the constant is chosen so the integral constraint is satisfied."
   ]
  },
  {
   "cell_type": "code",
   "execution_count": null,
   "metadata": {
    "collapsed": false
   },
   "outputs": [],
   "source": [
    "\n",
    "N = 16;\n",
    "x = linspace(2*pi/N,2*pi,N)\n",
    "f = (sin(x)**2 - cos(x)) * exp(cos(x))\n",
    "f_hat = fft(f)\n",
    "ik = 1j*hstack((range(0,N/2+1), range(-N/2+1,0)));   # i * wave number vector (matlab ordering)\n",
    "ik2 = ik*ik;          # multiplication factor for second derivative\n",
    "ik2inverse = where(ik2 != 0, 1./ik2, 0.)\n",
    "u_hat = ik2inverse * f_hat;\n",
    "u = real(ifft(u_hat))\n",
    "\n",
    "plot(x,u,'b-o')\n",
    "v = exp(cos(x));\n",
    "plot(x,v,'r-o')\n",
    "\n"
   ]
  },
  {
   "cell_type": "markdown",
   "metadata": {},
   "source": [
    "Again we get good agreement if we shift by the difference at the left-most point:"
   ]
  },
  {
   "cell_type": "code",
   "execution_count": null,
   "metadata": {
    "collapsed": false
   },
   "outputs": [],
   "source": [
    "u2 = u + v[0]-u[0]\n",
    "norm(u2 - v, inf)"
   ]
  },
  {
   "cell_type": "code",
   "execution_count": null,
   "metadata": {
    "collapsed": false
   },
   "outputs": [],
   "source": []
  }
 ],
 "metadata": {
  "anaconda-cloud": {},
  "kernelspec": {
   "display_name": "Python [default]",
   "language": "python",
   "name": "python3"
  },
  "language_info": {
   "codemirror_mode": {
    "name": "ipython",
    "version": 3
   },
   "file_extension": ".py",
   "mimetype": "text/x-python",
   "name": "python",
   "nbconvert_exporter": "python",
   "pygments_lexer": "ipython3",
   "version": "3.5.2"
  }
 },
 "nbformat": 4,
 "nbformat_minor": 0
}
